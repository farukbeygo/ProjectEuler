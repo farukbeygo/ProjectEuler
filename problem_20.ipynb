{
 "cells": [
  {
   "cell_type": "markdown",
   "metadata": {},
   "source": [
    "\"The following problem is taken from Project Euler.\"\n",
    "\n",
    "n! means n × (n − 1) × ... × 3 × 2 × 1\n",
    "\n",
    "For example, 10! = 10 × 9 × ... × 3 × 2 × 1 = 3628800,\n",
    "and the sum of the digits in the number 10! is 3 + 6 + 2 + 8 + 8 + 0 + 0 = 27.\n",
    "\n",
    "Find the sum of the digits in the number 100!"
   ]
  },
  {
   "cell_type": "code",
   "execution_count": 3,
   "metadata": {},
   "outputs": [],
   "source": [
    "# now create a function that can compute factorials of given number\n",
    "def fac(x):\n",
    "    if x<0:\n",
    "        return False\n",
    "    else:\n",
    "        if x<2:\n",
    "            return 1\n",
    "        else:\n",
    "            factorial = 1\n",
    "            number = 1\n",
    "            while x>number:\n",
    "                number+=1\n",
    "                factorial*=number\n",
    "            return factorial"
   ]
  },
  {
   "cell_type": "code",
   "execution_count": 4,
   "metadata": {},
   "outputs": [],
   "source": [
    "# now we can write a function that can return sum of the digits\n",
    "def digit_sum(x):\n",
    "    digitSum = 0\n",
    "    if x<0:\n",
    "        return False\n",
    "    else:\n",
    "        x = str(x)\n",
    "        for index in range(len(x)):\n",
    "            digitSum+=int(x[index])\n",
    "        return digitSum"
   ]
  },
  {
   "cell_type": "code",
   "execution_count": 5,
   "metadata": {},
   "outputs": [
    {
     "name": "stdout",
     "output_type": "stream",
     "text": [
      "648\n"
     ]
    }
   ],
   "source": [
    "print(digit_sum(fac(100)))"
   ]
  },
  {
   "cell_type": "code",
   "execution_count": null,
   "metadata": {},
   "outputs": [],
   "source": []
  }
 ],
 "metadata": {
  "kernelspec": {
   "display_name": "Python 3",
   "language": "python",
   "name": "python3"
  },
  "language_info": {
   "codemirror_mode": {
    "name": "ipython",
    "version": 3
   },
   "file_extension": ".py",
   "mimetype": "text/x-python",
   "name": "python",
   "nbconvert_exporter": "python",
   "pygments_lexer": "ipython3",
   "version": "3.8.3"
  }
 },
 "nbformat": 4,
 "nbformat_minor": 4
}
